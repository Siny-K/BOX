{
 "cells": [
  {
   "cell_type": "markdown",
   "metadata": {},
   "source": [
    "# Descriptors Filter"
   ]
  },
  {
   "cell_type": "code",
   "execution_count": 2,
   "metadata": {
    "collapsed": false
   },
   "outputs": [
    {
     "name": "stdout",
     "output_type": "stream",
     "text": [
      "1906\n"
     ]
    }
   ],
   "source": [
    "f = open('1st.txt')   ################################ input file\n",
    "item = f.readline()\n",
    "item = item.split()\n",
    "print len(item)"
   ]
  },
  {
   "cell_type": "markdown",
   "metadata": {},
   "source": [
    "## NAN제거"
   ]
  },
  {
   "cell_type": "code",
   "execution_count": 3,
   "metadata": {
    "collapsed": false,
    "scrolled": true
   },
   "outputs": [],
   "source": [
    "import pandas as pd\n",
    "import numpy as np\n",
    "csv_file =  pd.read_csv('1st.txt',sep='\\t') ####################### input file\n",
    "csv_headr = list(csv_file.columns.values)\n",
    "A = csv_file.isnull().any()\n",
    "for fact in enumerate(A) :\n",
    "    if fact[1] == True :\n",
    "        col_Nan = csv_headr[fact[0]]\n",
    "        del csv_file[col_Nan]\n",
    "        \n",
    "csv_file.to_csv(\"d_2.csv\", sep=\",\") ######################## remove non\n",
    "test_data=pd.read_csv('d_2.csv')  ####################### remove non"
   ]
  },
  {
   "cell_type": "markdown",
   "metadata": {},
   "source": [
    "## Kurtosis"
   ]
  },
  {
   "cell_type": "code",
   "execution_count": 4,
   "metadata": {
    "collapsed": false
   },
   "outputs": [
    {
     "name": "stdout",
     "output_type": "stream",
     "text": [
      "원래 = 1900\n",
      "3이하 = 933\n",
      "남은 디스크립터 = 967\n"
     ]
    }
   ],
   "source": [
    "import scipy.stats.stats as st\n",
    "\n",
    "header = list(test_data.columns.values)   # 디스크립터 항목만 빼내기\n",
    "\n",
    "# print header\n",
    "col_kur_skew = {}\n",
    "\n",
    "for i in header :\n",
    "    col_kur_skew[i] = [st.kurtosis(test_data[i]) , st.skew(test_data[i])]\n",
    "\n",
    "a = 0 \n",
    "b = 0\n",
    "for i in col_kur_skew :\n",
    "    b = b+1\n",
    "    if col_kur_skew[i][0] < 3 :\n",
    "        a = a +1 \n",
    "        del test_data[i]\n",
    "\n",
    "#print test_data\n",
    "print '원래','=',b\n",
    "print '3이하','=',a  \n",
    "print '남은 디스크립터','=',b-a\n",
    "label = list(test_data.columns.values) "
   ]
  },
  {
   "cell_type": "markdown",
   "metadata": {},
   "source": [
    "## PCA"
   ]
  },
  {
   "cell_type": "code",
   "execution_count": 5,
   "metadata": {
    "collapsed": false
   },
   "outputs": [
    {
     "data": {
      "text/plain": [
       "array([[ -5.49897067e-03,  -4.23150088e-04,  -7.10478169e-04, ...,\n",
       "         -3.22028434e-07,  -8.01480933e-06,  -6.00837834e-06],\n",
       "       [  7.17608516e-03,   1.31717863e-05,  -2.02424587e-04, ...,\n",
       "         -9.46565572e-06,  -5.04508500e-05,  -3.73037349e-05]])"
      ]
     },
     "execution_count": 5,
     "metadata": {},
     "output_type": "execute_result"
    }
   ],
   "source": [
    "from sklearn.decomposition import PCA\n",
    "from sklearn import preprocessing\n",
    "std_scale = preprocessing.StandardScaler().fit(test_data)\n",
    "std = std_scale.transform(test_data)\n",
    "\n",
    "pca_std = PCA(n_components=2).fit(test_data)\n",
    "pca_std.components_"
   ]
  },
  {
   "cell_type": "code",
   "execution_count": 6,
   "metadata": {
    "collapsed": false
   },
   "outputs": [
    {
     "data": {
      "image/png": "[encoded data removed]",
      "text/plain": [
       "<matplotlib.figure.Figure at 0x5ed2190>"
      ]
     },
     "metadata": {},
     "output_type": "display_data"
    }
   ],
   "source": [
    "%matplotlib inline\n",
    "\n",
    "import matplotlib.pyplot as plt\n",
    "from IPython.display import display, HTML\n",
    "from pylab import rcParams\n",
    "#rcParams['figure.figsize'] = 30, 30\n",
    "\n",
    "plt.xlabel('PCA-1')\n",
    "plt.ylabel('PCA-2')\n",
    "plt.title('PCA', fontsize=15)\n",
    "plt.plot(pca_std.components_[0],pca_std.components_[1],'b^')\n",
    "\n",
    "for i in range(len(label)):\n",
    "    #plt.text(pca.components_[0][i]+0.01,pca.components_[1][i]+0.01,label[i],None,'left')\n",
    "    \n",
    "    plt.text(pca_std.components_[0][i]+0.01,pca_std.components_[1][i]+0.01,label[i])\n",
    "    \n",
    "    "
   ]
  },
  {
   "cell_type": "markdown",
   "metadata": {},
   "source": [
    "![e](https://github.com/Siny-K/image/blob/master/ex.PNG?raw=true)"
   ]
  },
  {
   "cell_type": "markdown",
   "metadata": {},
   "source": [
    "# Result \n",
    "## 1. H_RG : Harary-like index from reciprocal squared geometrical matrix / 3D matrix-based descriptors\n",
    "\n",
    "## 2. SMTIV :  Schultz Molecular Topological Index by valence vertex degrees / Topological indices\n",
    "\n",
    "## 3. WAP : all-path Wiener index / Topological indices\n",
    "## 4. Wi_Dt : Wiener-like index from detour matrix (detour index) / 2D matrix-based descriptors\n",
    "## 5. P_VSA_ n: P_VSA-like on LogP, bin n  /P_VSA-like descriptors\n"
   ]
  },
  {
   "cell_type": "markdown",
   "metadata": {},
   "source": [
    "# 10000개 분자 "
   ]
  },
  {
   "cell_type": "code",
   "execution_count": null,
   "metadata": {
    "collapsed": true
   },
   "outputs": [],
   "source": [
    "f = open('1st.txt')   ################################ input file\n",
    "item = f.readline()\n",
    "item = item.split()\n",
    "print len(item)"
   ]
  },
  {
   "cell_type": "code",
   "execution_count": null,
   "metadata": {
    "collapsed": true
   },
   "outputs": [],
   "source": [
    "import pandas as pd\n",
    "import numpy as np\n",
    "csv_file =  pd.read_csv('1st.txt',sep='\\t') ####################### input file\n",
    "csv_headr = list(csv_file.columns.values)\n",
    "A = csv_file.isnull().any()\n",
    "for fact in enumerate(A) :\n",
    "    if fact[1] == True :\n",
    "        col_Nan = csv_headr[fact[0]]\n",
    "        del csv_file[col_Nan]\n",
    "        \n",
    "csv_file.to_csv(\"d_2.csv\", sep=\",\") ######################## remove non\n",
    "test_data=pd.read_csv('d_2.csv')  ####################### remove non"
   ]
  },
  {
   "cell_type": "code",
   "execution_count": null,
   "metadata": {
    "collapsed": true
   },
   "outputs": [],
   "source": [
    "import scipy.stats.stats as st\n",
    "\n",
    "header = list(test_data.columns.values)   # 디스크립터 항목만 빼내기\n",
    "\n",
    "# print header\n",
    "col_kur_skew = {}\n",
    "\n",
    "for i in header :\n",
    "    col_kur_skew[i] = [st.kurtosis(test_data[i]) , st.skew(test_data[i])]\n",
    "\n",
    "a = 0 \n",
    "b = 0\n",
    "for i in col_kur_skew :\n",
    "    b = b+1\n",
    "    if col_kur_skew[i][0] < 3 :\n",
    "        a = a +1 \n",
    "        del test_data[i]\n",
    "\n",
    "#print test_data\n",
    "print '원래','=',b\n",
    "print '3이하','=',a  \n",
    "print '남은 디스크립터','=',b-a\n",
    "label = list(test_data.columns.values) "
   ]
  },
  {
   "cell_type": "code",
   "execution_count": null,
   "metadata": {
    "collapsed": true
   },
   "outputs": [],
   "source": [
    "from sklearn.decomposition import PCA\n",
    "from sklearn import preprocessing\n",
    "std_scale = preprocessing.StandardScaler().fit(test_data)\n",
    "std = std_scale.transform(test_data)\n",
    "\n",
    "pca_std = PCA(n_components=2).fit(test_data)\n",
    "pca_std.components_"
   ]
  },
  {
   "cell_type": "code",
   "execution_count": null,
   "metadata": {
    "collapsed": true
   },
   "outputs": [],
   "source": [
    "%matplotlib inline\n",
    "\n",
    "import matplotlib.pyplot as plt\n",
    "from IPython.display import display, HTML\n",
    "from pylab import rcParams\n",
    "#rcParams['figure.figsize'] = 30, 30\n",
    "\n",
    "plt.xlabel('PCA-1')\n",
    "plt.ylabel('PCA-2')\n",
    "plt.title('PCA', fontsize=15)\n",
    "plt.plot(pca_std.components_[0],pca_std.components_[1],'b^')\n",
    "\n",
    "for i in range(len(label)):\n",
    "    #plt.text(pca.components_[0][i]+0.01,pca.components_[1][i]+0.01,label[i],None,'left')\n",
    "    \n",
    "    plt.text(pca_std.components_[0][i]+0.01,pca_std.components_[1][i]+0.01,label[i])"
   ]
  }
 ],
 "metadata": {
  "kernelspec": {
   "display_name": "Python 2",
   "language": "python",
   "name": "python2"
  },
  "language_info": {
   "codemirror_mode": {
    "name": "ipython",
    "version": 2
   },
   "file_extension": ".py",
   "mimetype": "text/x-python",
   "name": "python",
   "nbconvert_exporter": "python",
   "pygments_lexer": "ipython2",
   "version": "2.7.11"
  }
 },
 "nbformat": 4,
 "nbformat_minor": 0
}
